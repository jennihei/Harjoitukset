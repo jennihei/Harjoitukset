{
 "cells": [
  {
   "cell_type": "code",
   "execution_count": 1,
   "metadata": {},
   "outputs": [
    {
     "data": {
      "text/html": [
       "<div>\n",
       "<style scoped>\n",
       "    .dataframe tbody tr th:only-of-type {\n",
       "        vertical-align: middle;\n",
       "    }\n",
       "\n",
       "    .dataframe tbody tr th {\n",
       "        vertical-align: top;\n",
       "    }\n",
       "\n",
       "    .dataframe thead th {\n",
       "        text-align: right;\n",
       "    }\n",
       "</style>\n",
       "<table border=\"1\" class=\"dataframe\">\n",
       "  <thead>\n",
       "    <tr style=\"text-align: right;\">\n",
       "      <th></th>\n",
       "      <th>Date</th>\n",
       "      <th>Time</th>\n",
       "      <th>Channel</th>\n",
       "      <th>Language</th>\n",
       "      <th>Edustan palvelua</th>\n",
       "      <th>Miten kesäsi on lähtenyt käyntiin?</th>\n",
       "      <th>Miten tiimillämme pyyhkii?</th>\n",
       "      <th>Onko kesälomakaudella vaikutusta työhösi?</th>\n",
       "    </tr>\n",
       "  </thead>\n",
       "  <tbody>\n",
       "    <tr>\n",
       "      <th>0</th>\n",
       "      <td>30.09.2019</td>\n",
       "      <td>15:07</td>\n",
       "      <td>PuhPa laite 4 (208)</td>\n",
       "      <td>FI</td>\n",
       "      <td>Kuljetuspalvelut</td>\n",
       "      <td>NaN</td>\n",
       "      <td>NaN</td>\n",
       "      <td>NaN</td>\n",
       "    </tr>\n",
       "    <tr>\n",
       "      <th>1</th>\n",
       "      <td>29.09.2019</td>\n",
       "      <td>15:50</td>\n",
       "      <td>PuhPa laite 1 (206)</td>\n",
       "      <td>FI</td>\n",
       "      <td>Hoivapalvelut</td>\n",
       "      <td>50.0</td>\n",
       "      <td>50.0</td>\n",
       "      <td>NaN</td>\n",
       "    </tr>\n",
       "    <tr>\n",
       "      <th>2</th>\n",
       "      <td>29.09.2019</td>\n",
       "      <td>15:50</td>\n",
       "      <td>PuhPa laite 2 (207)</td>\n",
       "      <td>FI</td>\n",
       "      <td>Hoivapalvelut</td>\n",
       "      <td>100.0</td>\n",
       "      <td>100.0</td>\n",
       "      <td>NaN</td>\n",
       "    </tr>\n",
       "    <tr>\n",
       "      <th>3</th>\n",
       "      <td>28.09.2019</td>\n",
       "      <td>18:40</td>\n",
       "      <td>PuhPa laite 4 (208)</td>\n",
       "      <td>FI</td>\n",
       "      <td>Hoivapalvelut</td>\n",
       "      <td>75.0</td>\n",
       "      <td>25.0</td>\n",
       "      <td>Ei</td>\n",
       "    </tr>\n",
       "    <tr>\n",
       "      <th>4</th>\n",
       "      <td>27.09.2019</td>\n",
       "      <td>11:12</td>\n",
       "      <td>PuhPa laite 2 (207)</td>\n",
       "      <td>FI</td>\n",
       "      <td>Asiakaspalvelu</td>\n",
       "      <td>75.0</td>\n",
       "      <td>50.0</td>\n",
       "      <td>NaN</td>\n",
       "    </tr>\n",
       "  </tbody>\n",
       "</table>\n",
       "</div>"
      ],
      "text/plain": [
       "         Date   Time              Channel Language  Edustan palvelua  \\\n",
       "0  30.09.2019  15:07  PuhPa laite 4 (208)       FI  Kuljetuspalvelut   \n",
       "1  29.09.2019  15:50  PuhPa laite 1 (206)       FI     Hoivapalvelut   \n",
       "2  29.09.2019  15:50  PuhPa laite 2 (207)       FI     Hoivapalvelut   \n",
       "3  28.09.2019  18:40  PuhPa laite 4 (208)       FI     Hoivapalvelut   \n",
       "4  27.09.2019  11:12  PuhPa laite 2 (207)       FI    Asiakaspalvelu   \n",
       "\n",
       "   Miten kesäsi on lähtenyt käyntiin?  Miten tiimillämme pyyhkii?  \\\n",
       "0                                 NaN                         NaN   \n",
       "1                                50.0                        50.0   \n",
       "2                               100.0                       100.0   \n",
       "3                                75.0                        25.0   \n",
       "4                                75.0                        50.0   \n",
       "\n",
       "  Onko kesälomakaudella vaikutusta työhösi?  \n",
       "0                                       NaN  \n",
       "1                                       NaN  \n",
       "2                                       NaN  \n",
       "3                                        Ei  \n",
       "4                                       NaN  "
      ]
     },
     "execution_count": 1,
     "metadata": {},
     "output_type": "execute_result"
    }
   ],
   "source": [
    "import pandas as pd\n",
    "import matplotlib.pyplot as plt\n",
    "import seaborn as sns\n",
    "\n",
    "%matplotlib inline\n",
    "\n",
    "plt.style.use('seaborn-whitegrid')\n",
    "df = pd.read_excel('syyskuu.xlsx')\n",
    "df.head()"
   ]
  },
  {
   "cell_type": "code",
   "execution_count": 2,
   "metadata": {},
   "outputs": [
    {
     "data": {
      "text/html": [
       "<div>\n",
       "<style scoped>\n",
       "    .dataframe tbody tr th:only-of-type {\n",
       "        vertical-align: middle;\n",
       "    }\n",
       "\n",
       "    .dataframe tbody tr th {\n",
       "        vertical-align: top;\n",
       "    }\n",
       "\n",
       "    .dataframe thead th {\n",
       "        text-align: right;\n",
       "    }\n",
       "</style>\n",
       "<table border=\"1\" class=\"dataframe\">\n",
       "  <thead>\n",
       "    <tr style=\"text-align: right;\">\n",
       "      <th></th>\n",
       "      <th>Date</th>\n",
       "      <th>Time</th>\n",
       "      <th>Channel</th>\n",
       "      <th>Language</th>\n",
       "      <th>Edustan palvelua</th>\n",
       "      <th>Miten kesäsi on lähtenyt käyntiin?</th>\n",
       "      <th>Miten tiimillämme pyyhkii?</th>\n",
       "      <th>Onko kesälomakaudella vaikutusta työhösi?</th>\n",
       "    </tr>\n",
       "  </thead>\n",
       "  <tbody>\n",
       "    <tr>\n",
       "      <th>0</th>\n",
       "      <td>30.09.2019</td>\n",
       "      <td>15:07</td>\n",
       "      <td>PuhPa laite 4 (208)</td>\n",
       "      <td>FI</td>\n",
       "      <td>Kuljetuspalvelut</td>\n",
       "      <td>NaN</td>\n",
       "      <td>NaN</td>\n",
       "      <td>NaN</td>\n",
       "    </tr>\n",
       "    <tr>\n",
       "      <th>1</th>\n",
       "      <td>29.09.2019</td>\n",
       "      <td>15:50</td>\n",
       "      <td>PuhPa laite 1 (206)</td>\n",
       "      <td>FI</td>\n",
       "      <td>Hoivapalvelut</td>\n",
       "      <td>50.0</td>\n",
       "      <td>50.0</td>\n",
       "      <td>NaN</td>\n",
       "    </tr>\n",
       "    <tr>\n",
       "      <th>2</th>\n",
       "      <td>29.09.2019</td>\n",
       "      <td>15:50</td>\n",
       "      <td>PuhPa laite 2 (207)</td>\n",
       "      <td>FI</td>\n",
       "      <td>Hoivapalvelut</td>\n",
       "      <td>100.0</td>\n",
       "      <td>100.0</td>\n",
       "      <td>NaN</td>\n",
       "    </tr>\n",
       "    <tr>\n",
       "      <th>3</th>\n",
       "      <td>28.09.2019</td>\n",
       "      <td>18:40</td>\n",
       "      <td>PuhPa laite 4 (208)</td>\n",
       "      <td>FI</td>\n",
       "      <td>Hoivapalvelut</td>\n",
       "      <td>75.0</td>\n",
       "      <td>25.0</td>\n",
       "      <td>Ei</td>\n",
       "    </tr>\n",
       "    <tr>\n",
       "      <th>4</th>\n",
       "      <td>27.09.2019</td>\n",
       "      <td>11:12</td>\n",
       "      <td>PuhPa laite 2 (207)</td>\n",
       "      <td>FI</td>\n",
       "      <td>Asiakaspalvelu</td>\n",
       "      <td>75.0</td>\n",
       "      <td>50.0</td>\n",
       "      <td>NaN</td>\n",
       "    </tr>\n",
       "  </tbody>\n",
       "</table>\n",
       "</div>"
      ],
      "text/plain": [
       "         Date   Time              Channel Language  Edustan palvelua  \\\n",
       "0  30.09.2019  15:07  PuhPa laite 4 (208)       FI  Kuljetuspalvelut   \n",
       "1  29.09.2019  15:50  PuhPa laite 1 (206)       FI     Hoivapalvelut   \n",
       "2  29.09.2019  15:50  PuhPa laite 2 (207)       FI     Hoivapalvelut   \n",
       "3  28.09.2019  18:40  PuhPa laite 4 (208)       FI     Hoivapalvelut   \n",
       "4  27.09.2019  11:12  PuhPa laite 2 (207)       FI    Asiakaspalvelu   \n",
       "\n",
       "   Miten kesäsi on lähtenyt käyntiin?  Miten tiimillämme pyyhkii?  \\\n",
       "0                                 NaN                         NaN   \n",
       "1                                50.0                        50.0   \n",
       "2                               100.0                       100.0   \n",
       "3                                75.0                        25.0   \n",
       "4                                75.0                        50.0   \n",
       "\n",
       "  Onko kesälomakaudella vaikutusta työhösi?  \n",
       "0                                       NaN  \n",
       "1                                       NaN  \n",
       "2                                       NaN  \n",
       "3                                        Ei  \n",
       "4                                       NaN  "
      ]
     },
     "execution_count": 2,
     "metadata": {},
     "output_type": "execute_result"
    }
   ],
   "source": [
    "df.head()"
   ]
  },
  {
   "cell_type": "code",
   "execution_count": 3,
   "metadata": {},
   "outputs": [
    {
     "data": {
      "text/html": [
       "<div>\n",
       "<style scoped>\n",
       "    .dataframe tbody tr th:only-of-type {\n",
       "        vertical-align: middle;\n",
       "    }\n",
       "\n",
       "    .dataframe tbody tr th {\n",
       "        vertical-align: top;\n",
       "    }\n",
       "\n",
       "    .dataframe thead th {\n",
       "        text-align: right;\n",
       "    }\n",
       "</style>\n",
       "<table border=\"1\" class=\"dataframe\">\n",
       "  <thead>\n",
       "    <tr style=\"text-align: right;\">\n",
       "      <th></th>\n",
       "      <th>Miten kesäsi on lähtenyt käyntiin?</th>\n",
       "      <th>Miten tiimillämme pyyhkii?</th>\n",
       "    </tr>\n",
       "  </thead>\n",
       "  <tbody>\n",
       "    <tr>\n",
       "      <th>count</th>\n",
       "      <td>29.000000</td>\n",
       "      <td>27.000000</td>\n",
       "    </tr>\n",
       "    <tr>\n",
       "      <th>mean</th>\n",
       "      <td>64.655172</td>\n",
       "      <td>62.037037</td>\n",
       "    </tr>\n",
       "    <tr>\n",
       "      <th>std</th>\n",
       "      <td>35.049226</td>\n",
       "      <td>27.183821</td>\n",
       "    </tr>\n",
       "    <tr>\n",
       "      <th>min</th>\n",
       "      <td>0.000000</td>\n",
       "      <td>0.000000</td>\n",
       "    </tr>\n",
       "    <tr>\n",
       "      <th>25%</th>\n",
       "      <td>50.000000</td>\n",
       "      <td>50.000000</td>\n",
       "    </tr>\n",
       "    <tr>\n",
       "      <th>50%</th>\n",
       "      <td>75.000000</td>\n",
       "      <td>50.000000</td>\n",
       "    </tr>\n",
       "    <tr>\n",
       "      <th>75%</th>\n",
       "      <td>100.000000</td>\n",
       "      <td>75.000000</td>\n",
       "    </tr>\n",
       "    <tr>\n",
       "      <th>max</th>\n",
       "      <td>100.000000</td>\n",
       "      <td>100.000000</td>\n",
       "    </tr>\n",
       "  </tbody>\n",
       "</table>\n",
       "</div>"
      ],
      "text/plain": [
       "       Miten kesäsi on lähtenyt käyntiin?  Miten tiimillämme pyyhkii?\n",
       "count                           29.000000                   27.000000\n",
       "mean                            64.655172                   62.037037\n",
       "std                             35.049226                   27.183821\n",
       "min                              0.000000                    0.000000\n",
       "25%                             50.000000                   50.000000\n",
       "50%                             75.000000                   50.000000\n",
       "75%                            100.000000                   75.000000\n",
       "max                            100.000000                  100.000000"
      ]
     },
     "execution_count": 3,
     "metadata": {},
     "output_type": "execute_result"
    }
   ],
   "source": [
    "df.describe()"
   ]
  },
  {
   "cell_type": "code",
   "execution_count": 4,
   "metadata": {},
   "outputs": [
    {
     "data": {
      "text/plain": [
       "<matplotlib.axes._subplots.AxesSubplot at 0x263a701a4e0>"
      ]
     },
     "execution_count": 4,
     "metadata": {},
     "output_type": "execute_result"
    },
    {
     "data": {
      "image/png": "[encoded data removed]",
      "text/plain": [
       "<Figure size 432x288 with 1 Axes>"
      ]
     },
     "metadata": {
      "needs_background": "light"
     },
     "output_type": "display_data"
    }
   ],
   "source": [
    "sns.barplot(data=df, orient='h')"
   ]
  },
  {
   "cell_type": "code",
   "execution_count": 5,
   "metadata": {},
   "outputs": [
    {
     "data": {
      "text/plain": [
       "<matplotlib.axes._subplots.AxesSubplot at 0x263a8360c50>"
      ]
     },
     "execution_count": 5,
     "metadata": {},
     "output_type": "execute_result"
    },
    {
     "data": {
      "image/png": "[encoded data removed]",
      "text/plain": [
       "<Figure size 432x288 with 1 Axes>"
      ]
     },
     "metadata": {
      "needs_background": "light"
     },
     "output_type": "display_data"
    }
   ],
   "source": [
    "sns.boxplot(data=df, orient='h')"
   ]
  },
  {
   "cell_type": "code",
   "execution_count": 6,
   "metadata": {},
   "outputs": [
    {
     "data": {
      "text/plain": [
       "<matplotlib.axes._subplots.AxesSubplot at 0x263a8403e80>"
      ]
     },
     "execution_count": 6,
     "metadata": {},
     "output_type": "execute_result"
    },
    {
     "data": {
      "image/png": "[encoded data removed]",
      "text/plain": [
       "<Figure size 432x288 with 2 Axes>"
      ]
     },
     "metadata": {
      "needs_background": "light"
     },
     "output_type": "display_data"
    }
   ],
   "source": [
    "sns.heatmap(df.corr(), annot=True)"
   ]
  },
  {
   "cell_type": "code",
   "execution_count": null,
   "metadata": {},
   "outputs": [],
   "source": []
  }
 ],
 "metadata": {
  "kernelspec": {
   "display_name": "Python 3",
   "language": "python",
   "name": "python3"
  },
  "language_info": {
   "codemirror_mode": {
    "name": "ipython",
    "version": 3
   },
   "file_extension": ".py",
   "mimetype": "text/x-python",
   "name": "python",
   "nbconvert_exporter": "python",
   "pygments_lexer": "ipython3",
   "version": "3.7.3"
  }
 },
 "nbformat": 4,
 "nbformat_minor": 2
}
