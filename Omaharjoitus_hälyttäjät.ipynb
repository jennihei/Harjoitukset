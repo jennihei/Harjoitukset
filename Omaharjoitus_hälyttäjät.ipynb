{
 "cells": [
  {
   "cell_type": "code",
   "execution_count": 1,
   "metadata": {},
   "outputs": [],
   "source": [
    "import pandas as pd\n",
    "import numpy as np\n",
    "import matplotlib.pyplot as plt\n",
    "%matplotlib inline\n",
    "plt.style.use('fivethirtyeight')"
   ]
  },
  {
   "cell_type": "code",
   "execution_count": 2,
   "metadata": {},
   "outputs": [],
   "source": [
    "df= pd.read_excel('halyttajat.xlsx')"
   ]
  },
  {
   "cell_type": "code",
   "execution_count": 3,
   "metadata": {},
   "outputs": [
    {
     "data": {
      "text/html": [
       "<div>\n",
       "<style scoped>\n",
       "    .dataframe tbody tr th:only-of-type {\n",
       "        vertical-align: middle;\n",
       "    }\n",
       "\n",
       "    .dataframe tbody tr th {\n",
       "        vertical-align: top;\n",
       "    }\n",
       "\n",
       "    .dataframe thead th {\n",
       "        text-align: right;\n",
       "    }\n",
       "</style>\n",
       "<table border=\"1\" class=\"dataframe\">\n",
       "  <thead>\n",
       "    <tr style=\"text-align: right;\">\n",
       "      <th></th>\n",
       "      <th>(Älä muokkaa) Palvelupyyntö</th>\n",
       "      <th>(Älä muokkaa) Rivin tarkistussumma</th>\n",
       "      <th>(Älä muokkaa) Muokattu</th>\n",
       "      <th>Luotu</th>\n",
       "      <th>Asiakkuus</th>\n",
       "    </tr>\n",
       "  </thead>\n",
       "  <tbody>\n",
       "    <tr>\n",
       "      <th>0</th>\n",
       "      <td>86734381-f183-e911-80f2-001dd8bd36f8</td>\n",
       "      <td>Ben0D1pes7YTkEtaLuW9dJ1c8jXqjBO+aFdaOVC6fPlOiE...</td>\n",
       "      <td>2019-06-01 02:29:18</td>\n",
       "      <td>2019-06-01 01:14:50</td>\n",
       "      <td>Hoiva Eteläinen kotihoitoyksikkö</td>\n",
       "    </tr>\n",
       "    <tr>\n",
       "      <th>1</th>\n",
       "      <td>676456cb-fc83-e911-80f2-001dd8bd36f8</td>\n",
       "      <td>PzoGl0Unrl0ttTTezRayoj+x0v4BDYFUDKOv+SF9wVTnef...</td>\n",
       "      <td>2019-06-01 04:39:12</td>\n",
       "      <td>2019-06-01 02:35:38</td>\n",
       "      <td>Hoiva Itsemaksavat</td>\n",
       "    </tr>\n",
       "    <tr>\n",
       "      <th>2</th>\n",
       "      <td>e6fa0e48-0184-e911-80f2-001dd8bd36f8</td>\n",
       "      <td>0ve//wK6p/0exepW0ER8nFw9/62DOYwxzYBIwWd/QW9oKv...</td>\n",
       "      <td>2019-06-01 03:08:30</td>\n",
       "      <td>2019-06-01 03:07:46</td>\n",
       "      <td>Hoiva Itsemaksavat</td>\n",
       "    </tr>\n",
       "    <tr>\n",
       "      <th>3</th>\n",
       "      <td>65993511-1484-e911-80f2-001dd8bd36f8</td>\n",
       "      <td>fcW+vo8KzAybQkU6I1MJv6LrUau0rexsqZDri010+dv8P5...</td>\n",
       "      <td>2019-06-01 06:24:18</td>\n",
       "      <td>2019-06-01 05:22:20</td>\n",
       "      <td>Hoiva Pohjoinen kotihoitoyksikkö</td>\n",
       "    </tr>\n",
       "    <tr>\n",
       "      <th>4</th>\n",
       "      <td>69c30085-2a84-e911-80f2-001dd8bd36f8</td>\n",
       "      <td>8AQ8MN7RupJWYQTYNw1af2zX91xqAiWsiiNdtuabDmNgu6...</td>\n",
       "      <td>2019-06-01 09:08:45</td>\n",
       "      <td>2019-06-01 08:02:57</td>\n",
       "      <td>Hoiva Kaakkoinen kotihoitoyksikkö</td>\n",
       "    </tr>\n",
       "  </tbody>\n",
       "</table>\n",
       "</div>"
      ],
      "text/plain": [
       "            (Älä muokkaa) Palvelupyyntö  \\\n",
       "0  86734381-f183-e911-80f2-001dd8bd36f8   \n",
       "1  676456cb-fc83-e911-80f2-001dd8bd36f8   \n",
       "2  e6fa0e48-0184-e911-80f2-001dd8bd36f8   \n",
       "3  65993511-1484-e911-80f2-001dd8bd36f8   \n",
       "4  69c30085-2a84-e911-80f2-001dd8bd36f8   \n",
       "\n",
       "                  (Älä muokkaa) Rivin tarkistussumma (Älä muokkaa) Muokattu  \\\n",
       "0  Ben0D1pes7YTkEtaLuW9dJ1c8jXqjBO+aFdaOVC6fPlOiE...    2019-06-01 02:29:18   \n",
       "1  PzoGl0Unrl0ttTTezRayoj+x0v4BDYFUDKOv+SF9wVTnef...    2019-06-01 04:39:12   \n",
       "2  0ve//wK6p/0exepW0ER8nFw9/62DOYwxzYBIwWd/QW9oKv...    2019-06-01 03:08:30   \n",
       "3  fcW+vo8KzAybQkU6I1MJv6LrUau0rexsqZDri010+dv8P5...    2019-06-01 06:24:18   \n",
       "4  8AQ8MN7RupJWYQTYNw1af2zX91xqAiWsiiNdtuabDmNgu6...    2019-06-01 09:08:45   \n",
       "\n",
       "                Luotu                          Asiakkuus  \n",
       "0 2019-06-01 01:14:50   Hoiva Eteläinen kotihoitoyksikkö  \n",
       "1 2019-06-01 02:35:38                 Hoiva Itsemaksavat  \n",
       "2 2019-06-01 03:07:46                 Hoiva Itsemaksavat  \n",
       "3 2019-06-01 05:22:20   Hoiva Pohjoinen kotihoitoyksikkö  \n",
       "4 2019-06-01 08:02:57  Hoiva Kaakkoinen kotihoitoyksikkö  "
      ]
     },
     "execution_count": 3,
     "metadata": {},
     "output_type": "execute_result"
    }
   ],
   "source": [
    "df.head()"
   ]
  },
  {
   "cell_type": "code",
   "execution_count": 4,
   "metadata": {},
   "outputs": [],
   "source": [
    "df1=pd.crosstab(df['Asiakkuus'], 'lkm')"
   ]
  },
  {
   "cell_type": "code",
   "execution_count": 5,
   "metadata": {
    "scrolled": false
   },
   "outputs": [
    {
     "data": {
      "text/html": [
       "<style  type=\"text/css\" >\n",
       "</style><table id=\"T_263153d0_e9ca_11e9_b203_3402860ce751\" ><thead>    <tr>        <th class=\"index_name level0\" >col_0</th>        <th class=\"col_heading level0 col0\" >Hälytyksiä</th>        <th class=\"col_heading level0 col1\" >%</th>    </tr>    <tr>        <th class=\"index_name level0\" >Asiakkuus</th>        <th class=\"blank\" ></th>        <th class=\"blank\" ></th>    </tr></thead><tbody>\n",
       "                <tr>\n",
       "                        <th id=\"T_263153d0_e9ca_11e9_b203_3402860ce751level0_row0\" class=\"row_heading level0 row0\" >Hoiva Eteläinen kotihoitoyksikkö</th>\n",
       "                        <td id=\"T_263153d0_e9ca_11e9_b203_3402860ce751row0_col0\" class=\"data row0 col0\" >250</td>\n",
       "                        <td id=\"T_263153d0_e9ca_11e9_b203_3402860ce751row0_col1\" class=\"data row0 col1\" >6.5 %</td>\n",
       "            </tr>\n",
       "            <tr>\n",
       "                        <th id=\"T_263153d0_e9ca_11e9_b203_3402860ce751level0_row1\" class=\"row_heading level0 row1\" >Hoiva Itsemaksavat</th>\n",
       "                        <td id=\"T_263153d0_e9ca_11e9_b203_3402860ce751row1_col0\" class=\"data row1 col0\" >1174</td>\n",
       "                        <td id=\"T_263153d0_e9ca_11e9_b203_3402860ce751row1_col1\" class=\"data row1 col1\" >30.5 %</td>\n",
       "            </tr>\n",
       "            <tr>\n",
       "                        <th id=\"T_263153d0_e9ca_11e9_b203_3402860ce751level0_row2\" class=\"row_heading level0 row2\" >Hoiva Itäinen kotihoitoyksikkö</th>\n",
       "                        <td id=\"T_263153d0_e9ca_11e9_b203_3402860ce751row2_col0\" class=\"data row2 col0\" >410</td>\n",
       "                        <td id=\"T_263153d0_e9ca_11e9_b203_3402860ce751row2_col1\" class=\"data row2 col1\" >10.6 %</td>\n",
       "            </tr>\n",
       "            <tr>\n",
       "                        <th id=\"T_263153d0_e9ca_11e9_b203_3402860ce751level0_row3\" class=\"row_heading level0 row3\" >Hoiva Kaakkoinen kotihoitoyksikkö</th>\n",
       "                        <td id=\"T_263153d0_e9ca_11e9_b203_3402860ce751row3_col0\" class=\"data row3 col0\" >358</td>\n",
       "                        <td id=\"T_263153d0_e9ca_11e9_b203_3402860ce751row3_col1\" class=\"data row3 col1\" >9.3 %</td>\n",
       "            </tr>\n",
       "            <tr>\n",
       "                        <th id=\"T_263153d0_e9ca_11e9_b203_3402860ce751level0_row4\" class=\"row_heading level0 row4\" >Hoiva Keskinen kotihoitoyksikkö</th>\n",
       "                        <td id=\"T_263153d0_e9ca_11e9_b203_3402860ce751row4_col0\" class=\"data row4 col0\" >474</td>\n",
       "                        <td id=\"T_263153d0_e9ca_11e9_b203_3402860ce751row4_col1\" class=\"data row4 col1\" >12.3 %</td>\n",
       "            </tr>\n",
       "            <tr>\n",
       "                        <th id=\"T_263153d0_e9ca_11e9_b203_3402860ce751level0_row5\" class=\"row_heading level0 row5\" >Hoiva Koillinen kotihoitoyksikkö</th>\n",
       "                        <td id=\"T_263153d0_e9ca_11e9_b203_3402860ce751row5_col0\" class=\"data row5 col0\" >429</td>\n",
       "                        <td id=\"T_263153d0_e9ca_11e9_b203_3402860ce751row5_col1\" class=\"data row5 col1\" >11.1 %</td>\n",
       "            </tr>\n",
       "            <tr>\n",
       "                        <th id=\"T_263153d0_e9ca_11e9_b203_3402860ce751level0_row6\" class=\"row_heading level0 row6\" >Hoiva Lounainen kotihoitoyksikkö</th>\n",
       "                        <td id=\"T_263153d0_e9ca_11e9_b203_3402860ce751row6_col0\" class=\"data row6 col0\" >286</td>\n",
       "                        <td id=\"T_263153d0_e9ca_11e9_b203_3402860ce751row6_col1\" class=\"data row6 col1\" >7.4 %</td>\n",
       "            </tr>\n",
       "            <tr>\n",
       "                        <th id=\"T_263153d0_e9ca_11e9_b203_3402860ce751level0_row7\" class=\"row_heading level0 row7\" >Hoiva Läntinen kotihoitoyksikkö</th>\n",
       "                        <td id=\"T_263153d0_e9ca_11e9_b203_3402860ce751row7_col0\" class=\"data row7 col0\" >334</td>\n",
       "                        <td id=\"T_263153d0_e9ca_11e9_b203_3402860ce751row7_col1\" class=\"data row7 col1\" >8.7 %</td>\n",
       "            </tr>\n",
       "            <tr>\n",
       "                        <th id=\"T_263153d0_e9ca_11e9_b203_3402860ce751level0_row8\" class=\"row_heading level0 row8\" >Hoiva Pohjoinen kotihoitoyksikkö</th>\n",
       "                        <td id=\"T_263153d0_e9ca_11e9_b203_3402860ce751row8_col0\" class=\"data row8 col0\" >140</td>\n",
       "                        <td id=\"T_263153d0_e9ca_11e9_b203_3402860ce751row8_col1\" class=\"data row8 col1\" >3.6 %</td>\n",
       "            </tr>\n",
       "            <tr>\n",
       "                        <th id=\"T_263153d0_e9ca_11e9_b203_3402860ce751level0_row9\" class=\"row_heading level0 row9\" >Yhteensä</th>\n",
       "                        <td id=\"T_263153d0_e9ca_11e9_b203_3402860ce751row9_col0\" class=\"data row9 col0\" >3855</td>\n",
       "                        <td id=\"T_263153d0_e9ca_11e9_b203_3402860ce751row9_col1\" class=\"data row9 col1\" >100.0 %</td>\n",
       "            </tr>\n",
       "    </tbody></table>"
      ],
      "text/plain": [
       "<pandas.io.formats.style.Styler at 0x16f1ac9c0b8>"
      ]
     },
     "execution_count": 5,
     "metadata": {},
     "output_type": "execute_result"
    }
   ],
   "source": [
    "df1=pd.crosstab(df['Asiakkuus'],'Hälytyksiä')\n",
    "n=df1['Hälytyksiä'].sum()\n",
    "df1['%']=(df1['Hälytyksiä']/n)*100\n",
    "df1.loc['Yhteensä']=df1.sum()\n",
    "df1.style.format({'%' : '{:.1f} %'})"
   ]
  },
  {
   "cell_type": "code",
   "execution_count": 6,
   "metadata": {},
   "outputs": [
    {
     "data": {
      "text/plain": [
       "[Text(0, 0, '0 %'),\n",
       " Text(0, 0, '5 %'),\n",
       " Text(0, 0, '10 %'),\n",
       " Text(0, 0, '15 %'),\n",
       " Text(0, 0, '20 %'),\n",
       " Text(0, 0, '25 %'),\n",
       " Text(0, 0, '30 %'),\n",
       " Text(0, 0, '35 %')]"
      ]
     },
     "execution_count": 6,
     "metadata": {},
     "output_type": "execute_result"
    },
    {
     "data": {
      "image/png": "[encoded data removed]",
      "text/plain": [
       "<Figure size 432x288 with 1 Axes>"
      ]
     },
     "metadata": {
      "needs_background": "light"
     },
     "output_type": "display_data"
    }
   ],
   "source": [
    "ax1=df1.drop('Yhteensä')['%'].plot.barh()\n",
    "ax1.set_xlabel('% Hälytyksistä ' + str(n))\n",
    "ax1.set_xticklabels(['{:.0f} %'.format(x) for x in ax1.get_xticks()])"
   ]
  },
  {
   "cell_type": "code",
   "execution_count": 12,
   "metadata": {},
   "outputs": [],
   "source": [
    "hinnat = pd.read_excel('aktiviiset_palvelusopimukset.xlsx')"
   ]
  },
  {
   "cell_type": "code",
   "execution_count": 13,
   "metadata": {},
   "outputs": [
    {
     "data": {
      "text/html": [
       "<div>\n",
       "<style scoped>\n",
       "    .dataframe tbody tr th:only-of-type {\n",
       "        vertical-align: middle;\n",
       "    }\n",
       "\n",
       "    .dataframe tbody tr th {\n",
       "        vertical-align: top;\n",
       "    }\n",
       "\n",
       "    .dataframe thead th {\n",
       "        text-align: right;\n",
       "    }\n",
       "</style>\n",
       "<table border=\"1\" class=\"dataframe\">\n",
       "  <thead>\n",
       "    <tr style=\"text-align: right;\">\n",
       "      <th></th>\n",
       "      <th>(Älä muokkaa) Palvelusopimus</th>\n",
       "      <th>(Älä muokkaa) Rivin tarkistussumma</th>\n",
       "      <th>(Älä muokkaa) Muokattu</th>\n",
       "      <th>Tilan syy</th>\n",
       "      <th>Loppusumma</th>\n",
       "      <th>Pääasiakkuus</th>\n",
       "    </tr>\n",
       "  </thead>\n",
       "  <tbody>\n",
       "    <tr>\n",
       "      <th>0</th>\n",
       "      <td>d9ef6780-23c1-e611-80e1-001dd8bd1d6c</td>\n",
       "      <td>mGPrpoLBoIwu252pw65Lp7tzUXmkvzanyKVdezYvVk8MnO...</td>\n",
       "      <td>2016-12-13 13:01:48</td>\n",
       "      <td>Uusi</td>\n",
       "      <td>54.0</td>\n",
       "      <td>Hoiva Itsemaksavat</td>\n",
       "    </tr>\n",
       "    <tr>\n",
       "      <th>1</th>\n",
       "      <td>06c7eb43-26c1-e611-80e1-001dd8bd1d6c</td>\n",
       "      <td>4/tkPwcoUV0n8wQUiQV8oQAFqdWXNN9A+n3Qm2YClkSCSm...</td>\n",
       "      <td>2016-12-13 13:21:55</td>\n",
       "      <td>Uusi</td>\n",
       "      <td>48.0</td>\n",
       "      <td>Hoiva Läntinen kotihoitoyksikkö</td>\n",
       "    </tr>\n",
       "    <tr>\n",
       "      <th>2</th>\n",
       "      <td>6a704712-21c1-e611-80e1-001dd8bd1d6c</td>\n",
       "      <td>w4McF99so7XlKwu9YJHLjW6rCjVG9e1T8B30S8bHIARMMU...</td>\n",
       "      <td>2019-03-26 13:49:01</td>\n",
       "      <td>Uusi</td>\n",
       "      <td>54.0</td>\n",
       "      <td>Hoiva Itsemaksavat</td>\n",
       "    </tr>\n",
       "    <tr>\n",
       "      <th>3</th>\n",
       "      <td>338758fe-d909-e511-80d0-001dd8bd1d6c</td>\n",
       "      <td>Ul3RvOoO9AOBpXbxeqGXQ7bjAkUmtZAUE1f30yrzAxWYD1...</td>\n",
       "      <td>2015-06-03 13:34:30</td>\n",
       "      <td>Uusi</td>\n",
       "      <td>48.0</td>\n",
       "      <td>Hoiva Pohjoinen kotihoitoyksikkö</td>\n",
       "    </tr>\n",
       "    <tr>\n",
       "      <th>4</th>\n",
       "      <td>3d8758fe-d909-e511-80d0-001dd8bd1d6c</td>\n",
       "      <td>STsc3yZde7KI9p6uz0JjSsxLZA5yToHUWBJZjMoyTFuMzC...</td>\n",
       "      <td>2015-06-03 13:34:30</td>\n",
       "      <td>Uusi</td>\n",
       "      <td>48.0</td>\n",
       "      <td>Hoiva Lounainen kotihoitoyksikkö</td>\n",
       "    </tr>\n",
       "  </tbody>\n",
       "</table>\n",
       "</div>"
      ],
      "text/plain": [
       "           (Älä muokkaa) Palvelusopimus  \\\n",
       "0  d9ef6780-23c1-e611-80e1-001dd8bd1d6c   \n",
       "1  06c7eb43-26c1-e611-80e1-001dd8bd1d6c   \n",
       "2  6a704712-21c1-e611-80e1-001dd8bd1d6c   \n",
       "3  338758fe-d909-e511-80d0-001dd8bd1d6c   \n",
       "4  3d8758fe-d909-e511-80d0-001dd8bd1d6c   \n",
       "\n",
       "                  (Älä muokkaa) Rivin tarkistussumma (Älä muokkaa) Muokattu  \\\n",
       "0  mGPrpoLBoIwu252pw65Lp7tzUXmkvzanyKVdezYvVk8MnO...    2016-12-13 13:01:48   \n",
       "1  4/tkPwcoUV0n8wQUiQV8oQAFqdWXNN9A+n3Qm2YClkSCSm...    2016-12-13 13:21:55   \n",
       "2  w4McF99so7XlKwu9YJHLjW6rCjVG9e1T8B30S8bHIARMMU...    2019-03-26 13:49:01   \n",
       "3  Ul3RvOoO9AOBpXbxeqGXQ7bjAkUmtZAUE1f30yrzAxWYD1...    2015-06-03 13:34:30   \n",
       "4  STsc3yZde7KI9p6uz0JjSsxLZA5yToHUWBJZjMoyTFuMzC...    2015-06-03 13:34:30   \n",
       "\n",
       "  Tilan syy  Loppusumma                      Pääasiakkuus  \n",
       "0      Uusi        54.0                Hoiva Itsemaksavat  \n",
       "1      Uusi        48.0   Hoiva Läntinen kotihoitoyksikkö  \n",
       "2      Uusi        54.0                Hoiva Itsemaksavat  \n",
       "3      Uusi        48.0  Hoiva Pohjoinen kotihoitoyksikkö  \n",
       "4      Uusi        48.0  Hoiva Lounainen kotihoitoyksikkö  "
      ]
     },
     "execution_count": 13,
     "metadata": {},
     "output_type": "execute_result"
    }
   ],
   "source": [
    " hinnat.head()"
   ]
  },
  {
   "cell_type": "code",
   "execution_count": 32,
   "metadata": {},
   "outputs": [
    {
     "data": {
      "text/html": [
       "<div>\n",
       "<style scoped>\n",
       "    .dataframe tbody tr th:only-of-type {\n",
       "        vertical-align: middle;\n",
       "    }\n",
       "\n",
       "    .dataframe tbody tr th {\n",
       "        vertical-align: top;\n",
       "    }\n",
       "\n",
       "    .dataframe thead th {\n",
       "        text-align: right;\n",
       "    }\n",
       "</style>\n",
       "<table border=\"1\" class=\"dataframe\">\n",
       "  <thead>\n",
       "    <tr style=\"text-align: right;\">\n",
       "      <th></th>\n",
       "      <th>Loppusumma</th>\n",
       "    </tr>\n",
       "    <tr>\n",
       "      <th>Pääasiakkuus</th>\n",
       "      <th></th>\n",
       "    </tr>\n",
       "  </thead>\n",
       "  <tbody>\n",
       "    <tr>\n",
       "      <th>Asiakas Aino</th>\n",
       "      <td>0.00</td>\n",
       "    </tr>\n",
       "    <tr>\n",
       "      <th>Hoiva Eteläinen kotihoitoyksikkö</th>\n",
       "      <td>25578.75</td>\n",
       "    </tr>\n",
       "    <tr>\n",
       "      <th>Hoiva Itsemaksavat</th>\n",
       "      <td>81129.00</td>\n",
       "    </tr>\n",
       "    <tr>\n",
       "      <th>Hoiva Itäinen kotihoitoyksikkö</th>\n",
       "      <td>38829.00</td>\n",
       "    </tr>\n",
       "    <tr>\n",
       "      <th>Hoiva Kaakkoinen kotihoitoyksikkö</th>\n",
       "      <td>43480.00</td>\n",
       "    </tr>\n",
       "    <tr>\n",
       "      <th>Hoiva Keskinen kotihoitoyksikkö</th>\n",
       "      <td>43235.00</td>\n",
       "    </tr>\n",
       "    <tr>\n",
       "      <th>Hoiva Koillinen kotihoitoyksikkö</th>\n",
       "      <td>48779.00</td>\n",
       "    </tr>\n",
       "    <tr>\n",
       "      <th>Hoiva Lounainen kotihoitoyksikkö</th>\n",
       "      <td>25393.00</td>\n",
       "    </tr>\n",
       "    <tr>\n",
       "      <th>Hoiva Läntinen kotihoitoyksikkö</th>\n",
       "      <td>38306.00</td>\n",
       "    </tr>\n",
       "    <tr>\n",
       "      <th>Hoiva Pohjoinen kotihoitoyksikkö</th>\n",
       "      <td>19709.00</td>\n",
       "    </tr>\n",
       "    <tr>\n",
       "      <th>Keravan kotihoitotiimi</th>\n",
       "      <td>0.00</td>\n",
       "    </tr>\n",
       "  </tbody>\n",
       "</table>\n",
       "</div>"
      ],
      "text/plain": [
       "                                   Loppusumma\n",
       "Pääasiakkuus                                 \n",
       "Asiakas Aino                             0.00\n",
       "Hoiva Eteläinen kotihoitoyksikkö     25578.75\n",
       "Hoiva Itsemaksavat                   81129.00\n",
       "Hoiva Itäinen kotihoitoyksikkö       38829.00\n",
       "Hoiva Kaakkoinen kotihoitoyksikkö    43480.00\n",
       "Hoiva Keskinen kotihoitoyksikkö      43235.00\n",
       "Hoiva Koillinen kotihoitoyksikkö     48779.00\n",
       "Hoiva Lounainen kotihoitoyksikkö     25393.00\n",
       "Hoiva Läntinen kotihoitoyksikkö      38306.00\n",
       "Hoiva Pohjoinen kotihoitoyksikkö     19709.00\n",
       "Keravan kotihoitotiimi                   0.00"
      ]
     },
     "execution_count": 32,
     "metadata": {},
     "output_type": "execute_result"
    }
   ],
   "source": [
    "pd.pivot_table(hinnat,index=['Pääasiakkuus'],values=['Loppusumma'],aggfunc=np.sum)"
   ]
  },
  {
   "cell_type": "code",
   "execution_count": 34,
   "metadata": {},
   "outputs": [
    {
     "data": {
      "text/plain": [
       "Text(0.5, 0, 'Loppusumma')"
      ]
     },
     "execution_count": 34,
     "metadata": {},
     "output_type": "execute_result"
    },
    {
     "data": {
      "image/png": "[encoded data removed]",
      "text/plain": [
       "<Figure size 432x288 with 1 Axes>"
      ]
     },
     "metadata": {
      "needs_background": "light"
     },
     "output_type": "display_data"
    }
   ],
   "source": [
    "ax = pd.pivot_table(hinnat,index=[\"Pääasiakkuus\"],values=['Loppusumma'],aggfunc=np.sum).plot.barh(legend=False)\n",
    "ax.set_xlabel('Loppusumma')"
   ]
  },
  {
   "cell_type": "code",
   "execution_count": null,
   "metadata": {},
   "outputs": [],
   "source": []
  },
  {
   "cell_type": "code",
   "execution_count": null,
   "metadata": {},
   "outputs": [],
   "source": []
  }
 ],
 "metadata": {
  "kernelspec": {
   "display_name": "Python 3",
   "language": "python",
   "name": "python3"
  },
  "language_info": {
   "codemirror_mode": {
    "name": "ipython",
    "version": 3
   },
   "file_extension": ".py",
   "mimetype": "text/x-python",
   "name": "python",
   "nbconvert_exporter": "python",
   "pygments_lexer": "ipython3",
   "version": "3.7.3"
  }
 },
 "nbformat": 4,
 "nbformat_minor": 2
}
